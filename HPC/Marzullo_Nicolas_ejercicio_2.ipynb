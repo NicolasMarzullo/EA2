{
  "nbformat": 4,
  "nbformat_minor": 0,
  "metadata": {
    "colab": {
      "name": "Marzullo_Nicolas_ejercicio_2.ipynb",
      "provenance": [],
      "collapsed_sections": [
        "qoYPFWcielY3",
        "zqAv4Gt7qRrh",
        "Qtiz4_7bmaDe",
        "ufDYy0LPmbYH"
      ]
    },
    "kernelspec": {
      "name": "python3",
      "display_name": "Python 3"
    }
  },
  "cells": [
    {
      "cell_type": "markdown",
      "metadata": {
        "id": "qoYPFWcielY3"
      },
      "source": [
        "# 1 Introducción\n",
        "\n",
        "El siguiente ejercicio se realiza la suma / resta de dos matrices cuadradas siguiendo la fórmula:\n",
        "\n",
        "![image.png](data:image/png;base64,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)\n",
        "\n",
        "El objetivo es demostrar el trabajo en dos dimensiones de manera secuencial (complejidad O^2) y su bajo rendimiento cuando el tamaño de las matrices son grandes.\n",
        "Ademas este ejercicio se comparará con el siguiente que utiliza con programación multidimensional con threads (CUBA) para demotrar la conveniencia de utilizar hilos para este tipo de algoritmos."
      ]
    },
    {
      "cell_type": "markdown",
      "metadata": {
        "id": "32YB71STfPcy"
      },
      "source": [
        "---\n",
        "# 2 Armado del ambiente\n"
      ]
    },
    {
      "cell_type": "code",
      "metadata": {
        "id": "QcnL4UkAN7ub"
      },
      "source": [
        "#@title ## 2.1 Parámetros de ejecución\n",
        "#@markdown ### Especifique el inicio del rango de la matriz\n",
        "inicio_rango =   11#@param {type: \"number\"}\n",
        "#@markdown ### Especifique el fin del rango de la matriz\n",
        "fin_rango =   18#@param {type: \"number\"}\n",
        "\n",
        "\n",
        "#@markdown ### Especifique qué operacion desea realizar\n",
        "operacion = \"Restar\" #@param [\"Sumar\", \"Restar\"]\n",
        "\n",
        "#@markdown ### Especifique el tamaño de la matriz\n",
        "tamano_matriz =   1500#@param {type: \"number\"}\n"
      ],
      "execution_count": null,
      "outputs": []
    },
    {
      "cell_type": "markdown",
      "metadata": {
        "id": "soK0VJ2YgVSY"
      },
      "source": [
        "# 3 Desarrollo"
      ]
    },
    {
      "cell_type": "code",
      "metadata": {
        "id": "8_uVXVJjz_Jr",
        "colab": {
          "base_uri": "https://localhost:8080/"
        },
        "outputId": "17222572-70bd-4700-e411-3d648158ceca"
      },
      "source": [
        "try:\n",
        "  from datetime import datetime\n",
        "\n",
        "  tiempo_total = datetime.now()\n",
        "\n",
        "  import numpy\n",
        "\n",
        "\n",
        "  # --------------------------------------------\n",
        "  # Definición de función que transforma el tiempo en  milisegundos \n",
        "  tiempo_en_ms = lambda dt:(dt.days * 24 * 60 * 60 + dt.seconds) * 1000 + dt.microseconds / 1000.0\n",
        "  # --------------------------------------------\n",
        "\n",
        "  #inicializo las matrices cuadradas con valores random dentro del rango ingresado por el usuario\n",
        "  matriz_a = (fin_rango - inicio_rango) * numpy.random.random((tamano_matriz, tamano_matriz)) + inicio_rango\n",
        "  matriz_b = (fin_rango - inicio_rango) * numpy.random.random((tamano_matriz, tamano_matriz)) + inicio_rango\n",
        "  matriz_resultado = (fin_rango - inicio_rango) * numpy.random.random((tamano_matriz, tamano_matriz)) + inicio_rango\n",
        "\n",
        "  print(\"Operacion elegida: \", operacion, \"\\n\\n\")\n",
        "\n",
        "\n",
        "  tiempo_matrices = datetime.now()\n",
        "\n",
        "  #Sumo las dos matrices\n",
        "  for x  in range(0, tamano_matriz):\n",
        "    for y in range(0, tamano_matriz):\n",
        "      if operacion == \"Sumar\":\n",
        "        matriz_resultado[x][y] = matriz_a[x][y] + matriz_b[x][y]\n",
        "      elif operacion == \"Restar\":\n",
        "        matriz_resultado[x][y] = matriz_a[x][y] - matriz_b[x][y]\n",
        "\n",
        "  tiempo_matrices = datetime.now() - tiempo_matrices\n",
        "\n",
        "\n",
        "  print(\"***-----RESULTADOS------***\", \"\\n\\n\")\n",
        "\n",
        "  print(\"Matriz A\", \"\\n\" ,matriz_a, \"\\n\")\n",
        "  print(\"Matriz B\", \"\\n\" ,matriz_b, \"\\n\")\n",
        "  print(\"Matriz resultado\", \"\\n\" ,matriz_resultado, \"\\n\")\n",
        "\n",
        "\n",
        "  tiempo_total = datetime.now() - tiempo_total\n",
        "\n",
        "  print( \"Tiempo de suma de matrices:\", tiempo_en_ms( tiempo_matrices   ), \"[ms]\" )\n",
        "  print( \"Tiempo Total:\",                   tiempo_en_ms( tiempo_total ), \"[ms]\" )\n",
        "except Exception as exception:\n",
        "  print(\"Ups, hubo una excepción: \")\n",
        "  print(exception)\n",
        "    "
      ],
      "execution_count": null,
      "outputs": [
        {
          "output_type": "stream",
          "text": [
            "Operacion elegida:  Restar \n",
            "\n",
            "\n",
            "***-----RESULTADOS------*** \n",
            "\n",
            "\n",
            "Matriz A \n",
            " [[16.0000337  11.38969218 11.15749875 ... 11.79910285 15.28180227\n",
            "  14.09820384]\n",
            " [13.01940593 13.66247002 16.83484384 ... 12.61778334 12.31747811\n",
            "  15.26554793]\n",
            " [12.80037473 14.65490548 15.43866711 ... 11.08095215 15.59608615\n",
            "  16.55835388]\n",
            " ...\n",
            " [16.11732606 17.27432759 16.9720216  ... 12.18773067 17.19218807\n",
            "  17.45394585]\n",
            " [17.59236094 14.6959355  16.45991048 ... 13.47634379 16.83096703\n",
            "  17.60745012]\n",
            " [14.70098286 11.81968667 16.49056142 ... 15.09468266 15.84828667\n",
            "  11.81319482]] \n",
            "\n",
            "Matriz B \n",
            " [[15.56962185 15.91529161 13.25932743 ... 17.5089929  11.4570674\n",
            "  13.58727289]\n",
            " [17.41708121 15.57629665 15.93880442 ... 13.45078751 17.84737616\n",
            "  12.52567802]\n",
            " [17.52406028 14.85479679 13.40526339 ... 14.48762666 15.08092915\n",
            "  16.45031195]\n",
            " ...\n",
            " [12.79769701 12.55850433 11.5601314  ... 11.39737847 15.91613737\n",
            "  15.886272  ]\n",
            " [14.97226937 12.07636237 15.76813501 ... 17.94322171 12.4234905\n",
            "  13.21107635]\n",
            " [13.95653544 17.67336827 17.3921916  ... 16.87703682 15.12883677\n",
            "  12.90837653]] \n",
            "\n",
            "Matriz resultado \n",
            " [[ 0.43041185 -4.52559943 -2.10182869 ... -5.70989005  3.82473487\n",
            "   0.51093094]\n",
            " [-4.39767528 -1.91382663  0.89603941 ... -0.83300417 -5.52989804\n",
            "   2.73986991]\n",
            " [-4.72368555 -0.19989131  2.03340372 ... -3.40667452  0.515157\n",
            "   0.10804193]\n",
            " ...\n",
            " [ 3.31962906  4.71582325  5.4118902  ...  0.7903522   1.27605071\n",
            "   1.56767385]\n",
            " [ 2.62009158  2.61957313  0.69177547 ... -4.46687792  4.40747652\n",
            "   4.39637377]\n",
            " [ 0.74444742 -5.85368161 -0.90163018 ... -1.78235417  0.7194499\n",
            "  -1.09518171]] \n",
            "\n",
            "Tiempo de suma de matrices: 3566.853 [ms]\n",
            "Tiempo Total: 3651.898 [ms]\n"
          ],
          "name": "stdout"
        }
      ]
    },
    {
      "cell_type": "markdown",
      "metadata": {
        "id": "zqAv4Gt7qRrh"
      },
      "source": [
        "---\n",
        "# 4 Tabla de pasos de ejecución del programa\n",
        "\n",
        "\n",
        " Procesador | Función | Detalle\n",
        "------------|---------|----------\n",
        "CPU      |  @param inicio_rango                | Inicio del rango de números que contendrán las matrices\n",
        "CPU      |  @param fin_rango                | Fin del rango de números que contendrán las matrices\n",
        "CPU      |  @param operacion                | Operacion que se desea hacer sobre las matrices (suma o resta)\n",
        "CPU      |  @param tamano_matriz                | Tamaño de las matrices cuadradas que se trabajarán\n",
        "CPU      |  import                | Importa los módulos para funcionar.\n",
        "CPU      |  datetime.now()        | Toma el tiempo actual.\n",
        "CPU      |  numpy.random.random((tamano_matriz, tamano_matriz)) |  Genera una matriz cuadrada de números random\n",
        "CPU      |  for...for..           | Operacion (O^2) que suma las matrices.\n",
        "CPU      |  print()               | Informa resultados de las matrices y los tiempos de demora\n"
      ]
    },
    {
      "cell_type": "markdown",
      "metadata": {
        "id": "Qtiz4_7bmaDe"
      },
      "source": [
        "---\n",
        "# 5 Conclusiones\n",
        "\n",
        "Este ejercicio con fines educativos tiene como propósito demostrar que realizar procesos sobre matrices de manera secuencial y utilizando el CPU puede generar severos problemas de performance debido a la lentitud de acceso a las posiciones de memoria y la complejidad computacional del algoritmo (O^2). Si el tamaño de las matrices es pequeño la diferencia no es notoria, pero conforme aumenta, esta diferencia se hace notoria.\n",
        "\n",
        "Para ejemplificar esto podemos ver que al ejecutar la misma operación de manera secuencial en CPU (para un tamaño ed matriz de 1500 posiciones) los tiempos fueron:\n",
        "\n",
        "CPU secuencial (compejidad O^2): 3651 ms (3 segundos y medio aprox)\n",
        "\n",
        "GPU multidimencional con CUDA: 86 ms \n",
        "\n",
        "**Lecciones aprendidas**: No es conveniente utilizar el CPU de forma secuencial para procesar datos multidimencionales ya que, si el N es muy grande, la demora en el cálculo puede ser grande. \n",
        "Otra lección aprendida es que conviene trabajar las 3 matrices (las dos que suman y la de resultado en el mismo tipo de dato, en mi caso elegí float).\n",
        "**Sugerencias del algoritmo**: sería útil sumar algunas operaciones tales como multiplicación o división de matrices o quizas también darle al usuario la posibilidad de ingresar su propia matriz."
      ]
    },
    {
      "cell_type": "markdown",
      "metadata": {
        "id": "ufDYy0LPmbYH"
      },
      "source": [
        "---\n",
        "# 6 Bibliografía\n",
        "\n",
        "\n",
        "[1] MARKDOWN SYNTAX Colab: [PDF](https://github.com/wvaliente/SOA_HPC/blob/main/Documentos/markdown-cheatsheet-online.pdf)\n",
        "\n",
        "[2] Introducción a Python: [Página Colab](https://github.com/wvaliente/SOA_HPC/blob/main/Documentos/Python_Basico.ipynb) \n",
        "\n",
        "[3] Tutorial Point Colab: [PDF](https://github.com/wvaliente/SOA_HPC/blob/main/Documentos/markdown-cheatsheet-online.pdf)\n",
        "\n",
        "[4] Numpy random random: [Numpy random random](https://docs.scipy.org/doc/numpy-1.15.0/reference/generated/numpy.random.random.html)\n",
        "\n"
      ]
    }
  ]
}