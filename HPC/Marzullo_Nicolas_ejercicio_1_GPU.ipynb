{
  "nbformat": 4,
  "nbformat_minor": 0,
  "metadata": {
    "colab": {
      "name": "Marzullo_Nicolas_ejercicio_1_GPU.ipynb",
      "provenance": [],
      "collapsed_sections": []
    },
    "kernelspec": {
      "name": "python3",
      "display_name": "Python 3"
    },
    "accelerator": "GPU"
  },
  "cells": [
    {
      "cell_type": "markdown",
      "metadata": {
        "id": "U7tILjhuq9iw"
      },
      "source": [
        "# 1 Introducción\n",
        "\n",
        "El siguiente cuaderno realiza una operación entre dos vectores de \"precios de productos\". El algoritmo lo que hace es calcular el porcentaje de aumento o descuento de un precio.\n",
        "\n",
        "![formula.png](data:image/png;base64,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)\n",
        "\n",
        "Para lograrlo, se generan dos vectores con N cantidad de precios(ingresadas por el usuario) con números aleatorios entre 50 y 100.\n",
        "\n",
        "El objetivo es demostrar la aplicación de CUDA a las operaciones entre vectores utilizando Python y la plataforma Colab.\n",
        "\n",
        "---\n",
        "\n",
        "# 2 Armado del ambiente\n",
        "\n",
        "Instala en el cuaderno el módulo CUDA de Python.\n",
        "\n"
      ]
    },
    {
      "cell_type": "code",
      "metadata": {
        "colab": {
          "base_uri": "https://localhost:8080/"
        },
        "id": "EQ0FBHqTc89M",
        "outputId": "a9781516-cf0b-447f-e81d-f043ad2dff23"
      },
      "source": [
        "!pip install pycuda"
      ],
      "execution_count": null,
      "outputs": [
        {
          "output_type": "stream",
          "text": [
            "Collecting pycuda\n",
            "\u001b[?25l  Downloading https://files.pythonhosted.org/packages/46/61/47d3235a4c13eec5a5f03594ddb268f4858734e02980afbcd806e6242fa5/pycuda-2020.1.tar.gz (1.6MB)\n",
            "\u001b[K     |████████████████████████████████| 1.6MB 22.9MB/s \n",
            "\u001b[?25hCollecting pytools>=2011.2\n",
            "\u001b[?25l  Downloading https://files.pythonhosted.org/packages/b7/30/c9362a282ef89106768cba9d884f4b2e4f5dc6881d0c19b478d2a710b82b/pytools-2020.4.3.tar.gz (62kB)\n",
            "\u001b[K     |████████████████████████████████| 71kB 10.9MB/s \n",
            "\u001b[?25hRequirement already satisfied: decorator>=3.2.0 in /usr/local/lib/python3.6/dist-packages (from pycuda) (4.4.2)\n",
            "Collecting appdirs>=1.4.0\n",
            "  Downloading https://files.pythonhosted.org/packages/3b/00/2344469e2084fb287c2e0b57b72910309874c3245463acd6cf5e3db69324/appdirs-1.4.4-py2.py3-none-any.whl\n",
            "Collecting mako\n",
            "\u001b[?25l  Downloading https://files.pythonhosted.org/packages/a6/37/0e706200d22172eb8fa17d68a7ae22dec7631a0a92266634fb518a88a5b2/Mako-1.1.3-py2.py3-none-any.whl (75kB)\n",
            "\u001b[K     |████████████████████████████████| 81kB 12.2MB/s \n",
            "\u001b[?25hRequirement already satisfied: six>=1.8.0 in /usr/local/lib/python3.6/dist-packages (from pytools>=2011.2->pycuda) (1.15.0)\n",
            "Requirement already satisfied: numpy>=1.6.0 in /usr/local/lib/python3.6/dist-packages (from pytools>=2011.2->pycuda) (1.18.5)\n",
            "Requirement already satisfied: dataclasses>=0.7 in /usr/local/lib/python3.6/dist-packages (from pytools>=2011.2->pycuda) (0.7)\n",
            "Requirement already satisfied: MarkupSafe>=0.9.2 in /usr/local/lib/python3.6/dist-packages (from mako->pycuda) (1.1.1)\n",
            "Building wheels for collected packages: pycuda, pytools\n",
            "  Building wheel for pycuda (setup.py) ... \u001b[?25l\u001b[?25hdone\n",
            "  Created wheel for pycuda: filename=pycuda-2020.1-cp36-cp36m-linux_x86_64.whl size=621228 sha256=a2d5d6ee1002200ddad2d86724385a9dab82e007a310259444d4db169c8065ab\n",
            "  Stored in directory: /root/.cache/pip/wheels/8f/78/d1/5bb826f81d9d490297a348d818ff3ee6dd6f2075b06dde6ea0\n",
            "  Building wheel for pytools (setup.py) ... \u001b[?25l\u001b[?25hdone\n",
            "  Created wheel for pytools: filename=pytools-2020.4.3-py2.py3-none-any.whl size=61374 sha256=edec328ffa1da848153f7d9b05905bfdfcd310c2662360b6291bfae81c086d21\n",
            "  Stored in directory: /root/.cache/pip/wheels/af/c7/81/a22edb90b0b09a880468b2253bb1df8e9f503337ee15432c64\n",
            "Successfully built pycuda pytools\n",
            "Installing collected packages: appdirs, pytools, mako, pycuda\n",
            "Successfully installed appdirs-1.4.4 mako-1.1.3 pycuda-2020.1 pytools-2020.4.3\n"
          ],
          "name": "stdout"
        }
      ]
    },
    {
      "cell_type": "markdown",
      "metadata": {
        "id": "iYG7sRbCsNfV"
      },
      "source": [
        "# 3 Desarollo\n",
        "\n",
        "\n",
        "Ejecuta el código en GPU\n",
        "\n",
        "\n"
      ]
    },
    {
      "cell_type": "code",
      "metadata": {
        "colab": {
          "base_uri": "https://localhost:8080/"
        },
        "id": "7JcmhBitr79m",
        "outputId": "e818b42e-45c6-4015-e857-7c1c01803b80"
      },
      "source": [
        "# --------------------------------------------\n",
        "#@title 3.1 Parámetros de ejecución { vertical-output: true }\n",
        "\n",
        "cant_precios =   15000000#@param {type: \"number\"}\n",
        "\n",
        "# --------------------------------------------\n",
        "\n",
        "try:\n",
        "  from datetime import datetime\n",
        "\n",
        "  tiempo_total = datetime.now()\n",
        "\n",
        "  import pycuda.driver as cuda\n",
        "  import pycuda.autoinit\n",
        "  from pycuda.compiler import SourceModule\n",
        "\n",
        "  import numpy\n",
        "\n",
        "  from datetime import datetime\n",
        "\n",
        "  tiempo_total = datetime.now()\n",
        "\n",
        "  import pycuda.driver as cuda\n",
        "  import pycuda.autoinit\n",
        "  from pycuda.compiler import SourceModule\n",
        "\n",
        "  import numpy\n",
        "\n",
        "  # --------------------------------------------\n",
        "  # Definición de función que transforma el tiempo en  milisegundos \n",
        "  tiempo_en_ms = lambda dt:(dt.days * 24 * 60 * 60 + dt.seconds) * 1000 + dt.microseconds / 1000.0\n",
        "\n",
        "  # CPU - Defino la memoria de los vectores en cpu.\n",
        "\n",
        "  #Pongo vectores de precios entre 50 y 100 para facilitar el testing\n",
        "  x_cpu = numpy.random.randint(50,100, cant_precios)\n",
        "  x_cpu = x_cpu.astype( numpy.float32() )\n",
        "\n",
        "  y_cpu = numpy.random.randint(50,100, cant_precios)\n",
        "  y_cpu = y_cpu.astype( numpy.float32() )\n",
        "\n",
        "  #Inicializo vector de resultados con 0 y lo copio al CPU\n",
        "  precios_cpu = numpy.zeros(cant_precios)\n",
        "  precios_cpu = precios_cpu.astype( numpy.float32() )\n",
        "\n",
        "  \n",
        "  # CPU - reservo la memoria GPU.\n",
        "  x_gpu = cuda.mem_alloc( x_cpu.nbytes )\n",
        "  y_gpu = cuda.mem_alloc( y_cpu.nbytes )\n",
        "  precios_gpu = cuda.mem_alloc( precios_cpu.nbytes )\n",
        "\n",
        "  # GPU - Copio la memoria al GPU.\n",
        "  cuda.memcpy_htod( x_gpu, x_cpu )\n",
        "  cuda.memcpy_htod( y_gpu, y_cpu )\n",
        "  cuda.memcpy_htod( precios_gpu, precios_cpu )\n",
        "\n",
        "  # CPU - Defino la función kernel que ejecutará en GPU.\n",
        "  module = SourceModule(\"\"\"\n",
        "  __global__ void kernel_diferencia_precios( int n, float *X, float *Y, float *P )\n",
        "  {\n",
        "    int idx = threadIdx.x + blockIdx.x*blockDim.x;\n",
        "    if( idx < n )\n",
        "    {\n",
        "      P[idx]  = ((Y[idx] - X[idx]) / X[idx]) * 100;\n",
        "    }\n",
        "  }\n",
        "  \"\"\") \n",
        "  # CPU - Genero la función kernel.\n",
        "  kernel = module.get_function(\"kernel_diferencia_precios\")\n",
        "\n",
        "  tiempo_gpu = datetime.now()\n",
        "\n",
        "  # GPU - Ejecuta el kernel.\n",
        "  dim_hilo = 256\n",
        "  dim_bloque = numpy.int( (cant_precios + dim_hilo - 1) / dim_hilo )\n",
        "  print( \"Thread x: \", dim_hilo, \", Bloque x:\", dim_bloque )\n",
        "\n",
        "  #TODO: Ojo, con los tipos de las variables en el kernel.\n",
        "  kernel( numpy.int32(cant_precios), x_gpu, y_gpu, precios_gpu, block=( dim_hilo, 1, 1 ),grid=(dim_bloque, 1,1) )\n",
        "\n",
        "  tiempo_gpu = datetime.now() - tiempo_gpu\n",
        "\n",
        "  # GPU - Copio el resultado desde la memoria GPU.\n",
        "  cuda.memcpy_dtoh( precios_cpu, precios_gpu )\n",
        "\n",
        "  \n",
        "  # CPU - Informo el resutlado.\n",
        "  print( \"------------------------------------\")\n",
        "  print( \"X: \", \"\\n\" )\n",
        "  print( x_cpu , \"\\n\")\n",
        "  print( \"------------------------------------\")\n",
        "  print( \"Y: \", \"\\n\" )\n",
        "  print( y_cpu, \"\\n\" )\n",
        "  print( \"------------------------------------\")\n",
        "  print( \"Porcentaje de precios resultado: \", \"\\n\")\n",
        "  print( precios_cpu , \"\\n\")\n",
        "\n",
        "  tiempo_total = datetime.now() - tiempo_total\n",
        "\n",
        "  print( \"Cantidad de precios: \", cant_precios, \"\\n\" )\n",
        "  print( \"Thread x: \", dim_hilo, \", Bloque x:\", dim_bloque )\n",
        "  print(\"Tiempo Total: \", tiempo_en_ms( tiempo_total ), \"[ms]\" )\n",
        "  print(\"Tiempo GPU: \", tiempo_en_ms( tiempo_gpu   ), \"[ms]\" )\n",
        "\n",
        "\n",
        "except Exception as exception:\n",
        "  print(\"Ups, hubo una excepción: \")\n",
        "  print(exception);\n",
        "\n"
      ],
      "execution_count": null,
      "outputs": [
        {
          "output_type": "stream",
          "text": [
            "Thread x:  256 , Bloque x: 58594\n",
            "------------------------------------\n",
            "X:  \n",
            "\n",
            "[55. 77. 98. ... 90. 93. 89.] \n",
            "\n",
            "------------------------------------\n",
            "Y:  \n",
            "\n",
            "[61. 60. 61. ... 60. 77. 54.] \n",
            "\n",
            "------------------------------------\n",
            "Porcentaje de precios resultado:  \n",
            "\n",
            "[ 10.909091 -22.077923 -37.7551   ... -33.333336 -17.204302 -39.325844] \n",
            "\n",
            "Cantidad de precios:  15000000 \n",
            "\n",
            "Thread x:  256 , Bloque x: 58594\n",
            "Tiempo Total:  435.212 [ms]\n",
            "Tiempo GPU:  0.608 [ms]\n"
          ],
          "name": "stdout"
        }
      ]
    },
    {
      "cell_type": "markdown",
      "metadata": {
        "id": "uZEhQm_Uv5r1"
      },
      "source": [
        "---\n",
        "# 4 Tabla de pasos de ejecución del programa\n",
        "\n",
        "\n",
        " Procesador | Función | Detalle\n",
        "------------|---------|----------\n",
        "CPU      |  @param                | Lectura del tamaño de vectores de precios desde Colab.\n",
        "CPU      |  import                | Importa los módulos para funcionar.\n",
        "CPU      |  datetime.now()        | Toma el tiempo actual.\n",
        "CPU      |  numpy.random.randint(50, 100, cantidad_precios ) | Inicializa los vectoes X e Y con números entre 50 y 100\n",
        "CPU      |  x_cpu.astype( numpy.float32() ) | Determina el tipo de dato del array, para el caso float de 32 bits\n",
        "CPU      |  numpy.zeros( cantidad_precios ) | Inicializa el vector de resultado (precios) en 0\n",
        "**GPU**  |  cuda.mem_alloc()      | Reserva la memoria en GPU.\n",
        "**GPU**  |  cuda.memcpy_htod()    | Copia las memorias desde el CPU al GPU.\n",
        "CPU      |  SourceModule()        | Define el código del kernel \n",
        "CPU      |  module.get_function() | Genera la función del kernel GPU\n",
        "CPU      |  dim_tx/dim_bx         | Calcula las dimensiones.\n",
        "**GPU**  |  kernel()              | Ejecuta el kernel en GPU\n",
        "CPU      |  cuda.memcpy_dtoh( )   | Copia el resultado desde GPU memoria A a CPU memoria R.\n",
        "CPU      |  print()               | Informo los resultados.\n"
      ]
    },
    {
      "cell_type": "markdown",
      "metadata": {
        "id": "6-Nli1WSyBPV"
      },
      "source": [
        "---\n",
        "# 5 Conclusiones\n",
        "\n",
        "En este ejercicio, utilizando CUDA se demostró la eficiencia y la reducción de tiempo de cálculo y procesamiento al realizar el mismo ejercicio que se hizo antes (CPU - SECUENCIAL) pero ahora en un procesador de gráficos GPU y utilizando threads que acceden cada uno a una posición del vector, con lo cual se gana mucha mas velocidad ya no es necesario un ciclo for.\n",
        "\n",
        "Si el N de precios (tamaño del vector) es chico, los cambios no son significativos, pero se hizo una prueba con 15 millones de números y en el CPU tardó 17 segundos y en el GPU utilzando CUDA tardó 0.6ms. \n",
        "\n",
        "\n",
        "**Lecciones aprendidas**: No olvidar utilizar el GPU para procesamientos matemáticos. Cuda es de gran utilidad debido a que permite acceder en simultaneo a varias posiciones del array por cada thread y eso permite que el cálculo sea mucho mas veloz.\n",
        "**Sugerencias del algoritmo**: sería útil darle la posibilidad al usuario  de que cargue sus propios valores deprecios (por ejemplo desde un CSV) y probarlo con un archivo real y grande para darle una útilidad concreta."
      ]
    },
    {
      "cell_type": "markdown",
      "metadata": {
        "id": "6X6dlErPxG8-"
      },
      "source": [
        "---\n",
        "# 6 Bibliografia\n",
        "\n",
        "[1] MARKDOWN SYNTAX Colab: [PDF](https://github.com/wvaliente/SOA_HPC/blob/main/Documentos/markdown-cheatsheet-online.pdf)\n",
        "\n",
        "[2] Introducción a Python: [Página Colab](https://github.com/wvaliente/SOA_HPC/blob/main/Documentos/Python_Basico.ipynb) \n",
        "\n",
        "[3] Documentacion randInt [Numpy randInt](https://numpy.org/doc/stable/reference/random/generated/numpy.random.randint.html) \n",
        "\n",
        "[4] Documentación PyCUDA: [WEB](https://documen.tician.de/pycuda/index.html)\n",
        "\n",
        "[5] Repositorio de PyCUDA: [WEB](https://pypi.python.org/pypi/pycuda)\n",
        "\n",
        "[6] Numpy ceros: [numpyZeros](https://numpy.org/doc/stable/reference/generated/numpy.zeros.html?highlight=zeros#numpy.zeros)\n",
        "\n",
        "[7] Variación porcentual (aplicado a precios): [WEB](https://www.ck12.org/book/ck-12-conceptos-de-%c3%a1lgebra-nivel-b%c3%a1sico-en-espa%c3%b1ol/section/3.11/)"
      ]
    }
  ]
}