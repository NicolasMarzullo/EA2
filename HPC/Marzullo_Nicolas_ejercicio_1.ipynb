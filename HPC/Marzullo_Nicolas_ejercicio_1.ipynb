{
  "nbformat": 4,
  "nbformat_minor": 0,
  "metadata": {
    "colab": {
      "name": "Marzullo_Nicolas_ejercicio_1.ipynb",
      "provenance": [],
      "collapsed_sections": []
    },
    "kernelspec": {
      "name": "python3",
      "display_name": "Python 3"
    }
  },
  "cells": [
    {
      "cell_type": "markdown",
      "metadata": {
        "id": "gab4m019d54Y"
      },
      "source": [
        "#1 Introduccion\n",
        "El siguiente cuaderno realiza una operación entre dos vectores de \"precios de productos\". El algoritmo lo que hace es calcular el porcentaje de aumento o descuento de un precio.\n",
        "\n",
        "![formula.png](data:image/png;base64,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)\n",
        "\n",
        "Para lograrlo, se generan dos vectores con N cantidad de precios(ingresadas por el usuario) con números aleatorios entre 50 y 100.\n",
        "\n",
        "El objetivo es demostrar que utilizar el CPU y un paradigma secuencial no es una buena opción para procesar operaciones entre vectores cuando el tamaño del vector es muy grande.\n",
        "\n",
        "\n",
        "---\n",
        "\n",
        "#2 Armado del ambiente\n",
        "\n",
        "No se necesita armado de ambiente\n",
        "\n"
      ]
    },
    {
      "cell_type": "markdown",
      "metadata": {
        "id": "9bQlgBmBevHx"
      },
      "source": [
        "---\n",
        "\n",
        "# Desarrollo"
      ]
    },
    {
      "cell_type": "code",
      "metadata": {
        "colab": {
          "base_uri": "https://localhost:8080/"
        },
        "id": "fvLx-BQBetmE",
        "outputId": "b6bb5af9-1cc8-4a99-a2d4-ff66e428fe1c"
      },
      "source": [
        "# --------------------------------------------\n",
        "#@title 3.1 Parámetros de ejecución { vertical-output: true }\n",
        "\n",
        "cantidad_precios =   15000000#@param {type: \"number\"}\n",
        "\n",
        "# --------------------------------------------\n",
        "\n",
        "try:\n",
        "  from datetime import datetime\n",
        "\n",
        "  tiempo_total = datetime.now()\n",
        "\n",
        "  import numpy\n",
        "\n",
        "  # --------------------------------------------\n",
        "  # Definición de función que transforma el tiempo en  milisegundos \n",
        "  tiempo_en_ms = lambda dt:(dt.days * 24 * 60 * 60 + dt.seconds) * 1000 + dt.microseconds / 1000.0\n",
        "\n",
        "  # --------------------------------------------\n",
        "  # CPU - Defino la memoria de los vectores en cpu.\n",
        "\n",
        "  #Pongo vectores de precios entre 50 y 100 para facilitar la lectura\n",
        "  x_cpu = numpy.random.randint(50,100, cantidad_precios)\n",
        "  x_cpu = x_cpu.astype( numpy.int32() )\n",
        "\n",
        "  y_cpu = numpy.random.randint(50,100, cantidad_precios)\n",
        "  y_cpu = y_cpu.astype( numpy.int32() )\n",
        "\n",
        "  #Inicializo vector de resultados con 0 y lo copio al CPU\n",
        "  precios = numpy.zeros(cantidad_precios)\n",
        "  precios = precios.astype( numpy.float32() )\n",
        "\n",
        "  # El resultado se escribe sobre el vector precios\n",
        "\n",
        "  # --------------------------------------------\n",
        "  # CPU - Realizo la función Axpy.\n",
        "\n",
        "  tiempo_bucle = datetime.now()\n",
        "\n",
        "  #calculo cuanto aumentó o bajó cada precio\n",
        "  for index in range( 0, cantidad_precios ):\n",
        "    precios[index] = ((y_cpu[index] - x_cpu[index]) / x_cpu[index]) * 100\n",
        "\n",
        "  tiempo_bucle = datetime.now() - tiempo_bucle\n",
        "\n",
        "  # --------------------------------------------\n",
        "\n",
        "\n",
        "  # CPU - Informo el resultado.\n",
        "  print( \"------------------------------------\")\n",
        "  print( \"X: \" )\n",
        "  print( x_cpu )\n",
        "  print( \"------------------------------------\")\n",
        "  print( \"Y: \" )\n",
        "  print( y_cpu )\n",
        "  print( \"------------------------------------\")\n",
        "  print(\"\\n\\n\")\n",
        "  print( \"Resultado de precios: \" )\n",
        "  print( precios )\n",
        "  print(\"\\n\")\n",
        "  print( \"------------------------------------\")\n",
        "\n",
        "  tiempo_total = datetime.now() - tiempo_total\n",
        "\n",
        "  print(\"Tiempo Total: \", tiempo_en_ms( tiempo_total ), \"[ms]\" )\n",
        "  print(\"Tiempo bucle: \", tiempo_en_ms( tiempo_bucle ), \"[ms]\" )\n",
        "except Exception as exception:\n",
        "  print(\"Ups, ocurrió una excepción: \")\n",
        "  print(exception)\n"
      ],
      "execution_count": null,
      "outputs": [
        {
          "output_type": "stream",
          "text": [
            "------------------------------------\n",
            "X: \n",
            "[65 56 60 ... 50 86 75]\n",
            "------------------------------------\n",
            "Y: \n",
            "[62 97 96 ... 57 59 81]\n",
            "------------------------------------\n",
            "\n",
            "\n",
            "\n",
            "Resultado de precios: \n",
            "[ -4.6153846  73.21429    60.        ...  14.        -31.39535\n",
            "   8.       ]\n",
            "\n",
            "\n",
            "------------------------------------\n",
            "Tiempo Total:  17736.289 [ms]\n",
            "Tiempo bucle:  17350.869 [ms]\n"
          ],
          "name": "stdout"
        }
      ]
    },
    {
      "cell_type": "markdown",
      "metadata": {
        "id": "Q3HcFNXTe9jJ"
      },
      "source": [
        "---\n",
        "\n",
        "#4 Tabla de pasos\n",
        "Tabla de pasos de la ejecución del programa:\n",
        "\n",
        " Procesador | Función | Detalle\n",
        "------------|---------|----------\n",
        "CPU      |  @param                | Lectura del tamaño de vectores de precios desde Colab.\n",
        "CPU      |  import                | Importa los módulos para funcionar.\n",
        "CPU      |  datetime.now()        | Toma el tiempo inicial.\n",
        "CPU      |  numpy.random.randn( cantidad_precios ) | Inicializa los vectores x, y \n",
        "CPU      |  numpy.zeros( cantidad_precios ) | Inicializa el vector de resultado (precios) en 0\n",
        "CPU      |  for...                | Realiza la suma de los vectores A y B, guardando el resultado en R. \n",
        "CPU      |  datetime.now()        | Toma el tiempo final.\n",
        "CPU      |  print()               | Informa los resultados.\n",
        "\n",
        "---\n",
        "\n",
        "#5 Conclusión\n",
        "\n",
        "Si bien el código es un poco mas simple que CUDA ya que no necesitamos utilizar la GPU ni copiar los vectores a la misma ni tenemos threads involucrados, esta solucion solo puede ser útil si nuestros vectores tienen tamaño pequeños (menor al millon), pues a partir del millon, la diferencia de tiempo de procesamiento comienza a ser notoria. Justamente a eso apunta HPC, a poder solucionar algoritmos complejos y costosos en tiempos humanamente perceptibles.\n",
        "\n",
        "**Lecciones aprendidas**: Cuando el N del vector (tamaño) es muy grande, utilizar el CPU de forma secuencial puede traernos inconvenientes debido al tiempo de procesamiento que le lleva acceder posicion a posición del array y realizar el cálculo. Para esta caso encima son 3 arrays (precios originales, precios con valores cambiados y precios resultado).\n",
        "**Sugerencias del algoritmo**: sería útil darle la posibilidad al usuario  de que cargue sus propios valores deprecios (por ejemplo desde un CSV) y probarlo con un archivo real y grande para darle una útilidad concreta.\n",
        "\n",
        "---\n",
        "# 6 Bibliografia\n",
        "\n",
        "[1] MARKDOWN SYNTAX Colab: [PDF](https://github.com/wvaliente/SOA_HPC/blob/main/Documentos/markdown-cheatsheet-online.pdf)\n",
        "\n",
        "[2] Introducción a Python: [Página Colab](https://github.com/wvaliente/SOA_HPC/blob/main/Documentos/Python_Basico.ipynb) \n",
        "\n",
        "[3] Documentacion randInt [Numpy randInt](https://numpy.org/doc/stable/reference/random/generated/numpy.random.randint.html) \n",
        "\n",
        "[4] Documentación PyCUDA: [WEB](https://documen.tician.de/pycuda/index.html)\n",
        "\n",
        "[5] Repositorio de PyCUDA: [WEB](https://pypi.python.org/pypi/pycuda)\n",
        "\n",
        "[6] Numpy ceros: [numpyZeros](https://numpy.org/doc/stable/reference/generated/numpy.zeros.html?highlight=zeros#numpy.zeros)\n"
      ]
    }
  ]
}